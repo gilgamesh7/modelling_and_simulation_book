{
 "cells": [
  {
   "cell_type": "code",
   "execution_count": 1,
   "metadata": {},
   "outputs": [
    {
     "name": "stdout",
     "output_type": "stream",
     "text": [
      "Collecting pint\n",
      "  Downloading Pint-0.22-py3-none-any.whl (294 kB)\n",
      "\u001b[2K     \u001b[90m━━━━━━━━━━━━━━━━━━━━━━━━━━━━━━━━━━━━━━\u001b[0m \u001b[32m294.0/294.0 kB\u001b[0m \u001b[31m12.8 MB/s\u001b[0m eta \u001b[36m0:00:00\u001b[0m\n",
      "\u001b[?25hCollecting typing-extensions (from pint)\n",
      "  Downloading typing_extensions-4.7.1-py3-none-any.whl (33 kB)\n",
      "Installing collected packages: typing-extensions, pint\n",
      "Successfully installed pint-0.22 typing-extensions-4.7.1\n",
      "Note: you may need to restart the kernel to use updated packages.\n"
     ]
    }
   ],
   "source": [
    "pip install pint"
   ]
  },
  {
   "cell_type": "code",
   "execution_count": 6,
   "metadata": {},
   "outputs": [
    {
     "name": "stdout",
     "output_type": "stream",
     "text": [
      "9.8 meter / second ** 2\n",
      "9.8\n",
      "meter / second ** 2\n",
      "56.644 meter\n",
      "SI : 20.0 meter / second , American : 44.73872584108804 mile / hour\n"
     ]
    }
   ],
   "source": [
    "from pint import UnitRegistry\n",
    "\n",
    "units = UnitRegistry()\n",
    "\n",
    "# Generate units\n",
    "a = 9.8 * units.meter / units.second**2\n",
    "print(a)\n",
    "\n",
    "# Parts of a unit\n",
    "print(a.magnitude)\n",
    "print(a.units)\n",
    "\n",
    "# Calculations\n",
    "t = 3.4 * units.second\n",
    "print(a * t**2/2)\n",
    "\n",
    "# Converstion\n",
    "v = 20 * units.meter / units.second\n",
    "print(f\"SI : {v} , American : {v.to(units.mile/units.hour)}\")"
   ]
  }
 ],
 "metadata": {
  "kernelspec": {
   "display_name": "venv",
   "language": "python",
   "name": "python3"
  },
  "language_info": {
   "codemirror_mode": {
    "name": "ipython",
    "version": 3
   },
   "file_extension": ".py",
   "mimetype": "text/x-python",
   "name": "python",
   "nbconvert_exporter": "python",
   "pygments_lexer": "ipython3",
   "version": "3.10.6"
  },
  "orig_nbformat": 4
 },
 "nbformat": 4,
 "nbformat_minor": 2
}
